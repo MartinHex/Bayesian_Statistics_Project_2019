{
 "cells": [
  {
   "cell_type": "code",
   "execution_count": 1,
   "metadata": {},
   "outputs": [],
   "source": [
    "import pandas as pd\n",
    "import os"
   ]
  },
  {
   "cell_type": "code",
   "execution_count": 2,
   "metadata": {},
   "outputs": [],
   "source": [
    "cwd = os.getcwd()\n",
    "DataPath = os.path.join(cwd, 'MyCSV')\n",
    "LabPath = os.path.join(DataPath, 'RelevantTestCSV')\n",
    "SavePath = os.path.join(DataPath, 'DataSets')"
   ]
  },
  {
   "cell_type": "code",
   "execution_count": 3,
   "metadata": {},
   "outputs": [],
   "source": [
    "Death = pd.read_csv(os.path.join(DataPath, \"Death_RP.csv\"))\n",
    "\n",
    "Death = Death[Death.Subject_Died == \"Yes\"]\n",
    "Death = Death.drop(\"Subject_Died\", axis = 1)\n",
    "Death = Death.drop(\"Rep_subject\", axis = 1)\n",
    "Death = Death.drop(\"Warning\", axis = 1)\n",
    "Death = Death[Death.Death_Days != 0]\n",
    "Death = Death.dropna(axis=0)\n",
    "\n",
    "# Make the binsize 30 days --> 1 month\n",
    "binSize = 30\n",
    "nbrBins = 24\n",
    "bins = []\n",
    "for patient in range(0,len(Death)):\n",
    "    for i in range(1,nbrBins+1):\n",
    "        if(Death.iat[patient,1] > ((i-1) * binSize)+1 and Death.iat[patient,1] <= (i * binSize)+1):\n",
    "            bins.append(i)\n",
    "            break\n",
    "        elif(i == nbrBins):\n",
    "            bins.append(i)\n",
    "            \n",
    "Death[\"Death_Bin\"] = bins\n",
    "\n",
    "Death.columns = [\"Subject_id\", \"Death_Date\", \"Death_Bin\"]\n"
   ]
  },
  {
   "cell_type": "code",
   "execution_count": 7,
   "metadata": {},
   "outputs": [],
   "source": [
    "#Prepare history data\n",
    "Onset = pd.read_csv(os.path.join(DataPath, \"ALSHistory_RP_Site.csv\"))\n",
    "\n",
    "for column in Onset.columns:\n",
    "    if not (str(column) == \"subject_id\" or str(column) == \"Onset_Site\"):\n",
    "        Onset = Onset.drop(column, axis=1)\n",
    "#        print(column)\n",
    "#    else:\n",
    "#        Onset = Onset.drop(column, axis=1)\n",
    "        \n",
    "#bulbarList = []\n",
    "limbList = []\n",
    "#otherList = []\n",
    "for row in range(0,len(Onset)):\n",
    "    if (Onset.iat[row,1] == \"Limb\"):\n",
    "     #   bulbarList.append(0)\n",
    "        limbList.append(1)\n",
    "        \n",
    "    else:\n",
    "        limbList.append(0)\n",
    "    #    otherList.append(0)\n",
    "    #elif (Onset.iat[row,1] == \"Bulbar\"):\n",
    "    #    bulbarList.append(1)\n",
    "    #    limbList.append(0)\n",
    "    #    otherList.append(0)\n",
    "    #else:\n",
    "     #   bulbarList.append(0)\n",
    "     #   limbList.append(0)\n",
    "     #   otherList.append(1)\n",
    "        \n",
    "Onset.insert(1,'Limb_Onset', limbList, True)\n",
    "#Onset.insert(1, 'Bulbar_Onset', bulbarList, True)\n",
    "#Onset.insert(1, 'Other_Onset', otherList, True)\n",
    "\n",
    "Onset = Onset.drop('Onset_Site',axis=1)       \n",
    "#Onset.columns = [\"Subject_id\", \"Other_Onset\", \"Bulbar_Onset\", \"Limb_Onset\"]\n",
    "Onset.columns = [\"Subject_id\", \"Limb_Onset\"]"
   ]
  },
  {
   "cell_type": "code",
   "execution_count": 8,
   "metadata": {},
   "outputs": [],
   "source": [
    "#prepare the FVC data\n",
    "FVC = pd.read_csv(os.path.join(DataPath, \"FVC_RP.csv\"))\n",
    "for column in FVC.columns:\n",
    "    if not (str(column) == 'Test_name' or str(column) == \"subject_id\" or str(column) == \"Forced_Vital_Capacity_Delta\" or str(column) == \"NewPct_1\"):\n",
    "        FVC = FVC.drop(column, axis=1)\n",
    "#        print(column)\n",
    "#    else:\n",
    "#        FVC = FVC.drop(column, axis=1)\n",
    "        \n",
    "FVC = FVC.dropna(axis=0)\n",
    "FVC.columns = [\"Subject_id\", \"delta\", \"FVCScore\"]\n",
    "FVC = FVC[FVC.delta==0]\n",
    "FVC = FVC.drop('delta',axis=1)"
   ]
  },
  {
   "cell_type": "code",
   "execution_count": 9,
   "metadata": {},
   "outputs": [],
   "source": [
    "#prepare the ALSFRS data\n",
    "ALSFRS = pd.read_csv(os.path.join(DataPath, \"Alsfrs_RP.csv\"))\n",
    "\n",
    "for column in ALSFRS.columns:\n",
    "    if not (str(column) == \"subject_id\" or str(column) == \"ALSFRS_Delta\" or str(column) == \"ALSFRS_R_Total\"):\n",
    "        ALSFRS = ALSFRS.drop(column, axis=1)\n",
    "#        print(column)\n",
    "#    else:\n",
    "#        ALSFRS = ALSFRS.drop(column, axis=1)\n",
    "        \n",
    "ALSFRS = ALSFRS.dropna(axis=0)\n",
    "ALSFRS.columns = [\"Subject_id\", \"delta\", \"AlsfrsScore\"]\n",
    "ALSFRS = ALSFRS[ALSFRS.delta == 0]\n",
    "ALSFRS = ALSFRS.drop('delta',axis=1)"
   ]
  },
  {
   "cell_type": "code",
   "execution_count": 10,
   "metadata": {},
   "outputs": [
    {
     "name": "stderr",
     "output_type": "stream",
     "text": [
      "C:\\Users\\marti\\Anaconda3\\lib\\site-packages\\ipykernel_launcher.py:5: SettingWithCopyWarning: \n",
      "A value is trying to be set on a copy of a slice from a DataFrame\n",
      "\n",
      "See the caveats in the documentation: http://pandas.pydata.org/pandas-docs/stable/user_guide/indexing.html#returning-a-view-versus-a-copy\n",
      "  \"\"\"\n",
      "C:\\Users\\marti\\Anaconda3\\lib\\site-packages\\ipykernel_launcher.py:7: SettingWithCopyWarning: \n",
      "A value is trying to be set on a copy of a slice from a DataFrame\n",
      "\n",
      "See the caveats in the documentation: http://pandas.pydata.org/pandas-docs/stable/user_guide/indexing.html#returning-a-view-versus-a-copy\n",
      "  import sys\n"
     ]
    }
   ],
   "source": [
    "DemographicData = pd.read_csv(os.path.join(DataPath, \"Demographics_RP.csv\"))\n",
    "\n",
    "for patient in range(0,len(DemographicData)):\n",
    "    if DemographicData['Sex'][patient] == 'Male':\n",
    "        DemographicData['Sex'][patient] = 0\n",
    "    else:\n",
    "        DemographicData['Sex'][patient] = 1\n",
    "        \n",
    "for column in DemographicData.columns:\n",
    "    if not (column == 'subject_id' or column == 'Age' or column == 'Sex'):\n",
    "        DemographicData = DemographicData.drop(column, axis = 1)\n",
    "\n",
    "DemographicData = DemographicData.dropna(axis=0)\n",
    "DemographicData.columns = [\"Subject_id\", \"Age\", \"Sex\"]"
   ]
  },
  {
   "cell_type": "code",
   "execution_count": 11,
   "metadata": {},
   "outputs": [],
   "source": [
    "#Combinde the dataframes for non-lab data.\n",
    "Baseframe = Onset\n",
    "Baseframe = pd.merge(Baseframe, Death, how='inner', left_on = [\"Subject_id\"], right_on = [\"Subject_id\"])\n",
    "#Baseframe = pd.merge(Baseframe, ALSFRS, how = 'inner', left_on=['Subject_id'], right_on=['Subject_id'])\n",
    "Baseframe = pd.merge(Baseframe, FVC, how = 'inner', left_on=['Subject_id'], right_on=['Subject_id'])\n",
    "Baseframe = pd.merge(Baseframe, DemographicData, how = 'inner', left_on=['Subject_id'], right_on=['Subject_id'])\n",
    "\n",
    "BaseFrame = Baseframe.dropna(axis=0)"
   ]
  },
  {
   "cell_type": "code",
   "execution_count": 13,
   "metadata": {},
   "outputs": [
    {
     "name": "stdout",
     "output_type": "stream",
     "text": [
      "Checking test: 1/2\r"
     ]
    },
    {
     "name": "stderr",
     "output_type": "stream",
     "text": [
      "C:\\Users\\marti\\Anaconda3\\lib\\site-packages\\IPython\\core\\interactiveshell.py:3058: DtypeWarning: Columns (6,10,14,27) have mixed types. Specify dtype option on import or set low_memory=False.\n",
      "  interactivity=interactivity, compiler=compiler, result=result)\n"
     ]
    },
    {
     "name": "stdout",
     "output_type": "stream",
     "text": [
      "530 unique patients were found.\n"
     ]
    }
   ],
   "source": [
    "#Merge the lab results where there are more than 1000 entries and atleast 50 unqiue patients in union. \n",
    "\n",
    "# List of hand picked tests\n",
    "ListTests = pd.read_csv(os.path.join(DataPath, \"Selected_Covariates.csv\"))\n",
    "ListTests = ListTests['x']\n",
    "\n",
    "# List of all tests availible\n",
    "#ListTests = os.listdir(LabPath)\n",
    "\n",
    "counter = 0\n",
    "mergedFrame = BaseFrame\n",
    "for test in ListTests: \n",
    "    counter += 1\n",
    "    print(\"Checking test: \" + str(counter) + \"/\" + str(len(ListTests)), end=\"\\r\")\n",
    "    \n",
    "    mergedPatients = set(mergedFrame.Subject_id)\n",
    "    \n",
    "    TestPath = os.path.join(LabPath, str(test))\n",
    "    tempFrame = pd.read_csv(TestPath)\n",
    "    tempFrame = tempFrame[tempFrame.Laboratory_delta == 0]\n",
    "    Patients = set(tempFrame.Subject_id)\n",
    "\n",
    "    PatientsUnion = Patients.intersection(mergedPatients)\n",
    "\n",
    "    if len(PatientsUnion) > 50:\n",
    "        for column in tempFrame.columns:\n",
    "            # or str(column) == \"Laboratory_delta\"\n",
    "            if not (str(column) == \"Subject_id\"  or str(column) == \"RevisedTest_result\"):\n",
    "                tempFrame = tempFrame.drop(column, axis=1)\n",
    "\n",
    "        tempFrame = tempFrame.dropna(axis=0)\n",
    "        tempFrame.columns = [\"Subject_id\", test[:-4]]\n",
    "\n",
    "        mergedFrame = pd.merge(mergedFrame, tempFrame, how='inner', left_on = [\"Subject_id\"], right_on = [\"Subject_id\"])\n",
    "        mergedFrame = mergedFrame.drop_duplicates(subset = 'Subject_id')\n",
    "print(str(len(mergedPatients)) + \" unique patients were found.\")    \n",
    "      \n",
    "        \n",
    "        \n",
    "    "
   ]
  },
  {
   "cell_type": "code",
   "execution_count": 14,
   "metadata": {},
   "outputs": [],
   "source": [
    "del mergedFrame['Subject_id']\n",
    "mergedFrame = mergedFrame.reset_index()\n",
    "mergedFrame['index'] = mergedFrame.index"
   ]
  },
  {
   "cell_type": "code",
   "execution_count": 15,
   "metadata": {},
   "outputs": [],
   "source": [
    "import csv\n",
    "path = os.path.join(SavePath, 'Combined_Lab_Well_Age_Sex_Onset_v2.csv')\n",
    "with open(path, mode = 'w') as csv_file:\n",
    "        \n",
    "    csv_file = csv.writer(csv_file, delimiter=',', quotechar='\"')\n",
    "    csv_file.writerow(mergedFrame.columns)\n",
    "    for row in range(0,len(mergedFrame)):\n",
    "        csv_file.writerow(mergedFrame.iloc[row,:])"
   ]
  }
 ],
 "metadata": {
  "kernelspec": {
   "display_name": "Python 3",
   "language": "python",
   "name": "python3"
  },
  "language_info": {
   "codemirror_mode": {
    "name": "ipython",
    "version": 3
   },
   "file_extension": ".py",
   "mimetype": "text/x-python",
   "name": "python",
   "nbconvert_exporter": "python",
   "pygments_lexer": "ipython3",
   "version": "3.7.4"
  }
 },
 "nbformat": 4,
 "nbformat_minor": 2
}
